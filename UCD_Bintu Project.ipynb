{
 "cells": [
  {
   "cell_type": "code",
   "execution_count": 1,
   "id": "f513d390-e605-4d82-a784-9928ffc2bf62",
   "metadata": {},
   "outputs": [],
   "source": [
    "import pandas as pd\n",
    "import seaborn as sns\n",
    "import numpy as np\n",
    "import matplotlib.pyplot as plt"
   ]
  },
  {
   "cell_type": "code",
   "execution_count": 2,
   "id": "dace5421-5c7e-4500-bd21-5285a9b99099",
   "metadata": {
    "tags": []
   },
   "outputs": [
    {
     "name": "stdout",
     "output_type": "stream",
     "text": [
      "   step      type    amount     nameOrig  oldbalanceOrg  newbalanceOrig  \\\n",
      "0     1   PAYMENT   9839.64  C1231006815       170136.0       160296.36   \n",
      "1     1   PAYMENT   1864.28  C1666544295        21249.0        19384.72   \n",
      "2     1  TRANSFER    181.00  C1305486145          181.0            0.00   \n",
      "3     1  CASH_OUT    181.00   C840083671          181.0            0.00   \n",
      "4     1   PAYMENT  11668.14  C2048537720        41554.0        29885.86   \n",
      "\n",
      "      nameDest  oldbalanceDest  newbalanceDest  isFraud  isFlaggedFraud  \n",
      "0  M1979787155             0.0             0.0        0               0  \n",
      "1  M2044282225             0.0             0.0        0               0  \n",
      "2   C553264065             0.0             0.0        1               0  \n",
      "3    C38997010         21182.0             0.0        1               0  \n",
      "4  M1230701703             0.0             0.0        0               0  \n"
     ]
    }
   ],
   "source": [
    "#importing CSV file into Pandas DataFrame\n",
    "fraud_data = pd.read_csv('Financial_Data.csv')\n",
    "print(fraud_data.head())"
   ]
  },
  {
   "cell_type": "code",
   "execution_count": 3,
   "id": "f3917abb-1d15-4c1c-a685-dc585f20366a",
   "metadata": {},
   "outputs": [
    {
     "data": {
      "text/plain": [
       "type\n",
       "DEBIT         41432\n",
       "TRANSFER     532909\n",
       "CASH_IN     1399284\n",
       "PAYMENT     2151495\n",
       "CASH_OUT    2237500\n",
       "Name: isFlaggedFraud, dtype: int64"
      ]
     },
     "execution_count": 3,
     "metadata": {},
     "output_type": "execute_result"
    }
   ],
   "source": [
    "fraud_data.groupby(['type']).count()['isFlaggedFraud'].sort_values(ascending=True)"
   ]
  },
  {
   "cell_type": "code",
   "execution_count": 4,
   "id": "c052c575-9f13-4298-9463-949933acbc6c",
   "metadata": {},
   "outputs": [
    {
     "name": "stdout",
     "output_type": "stream",
     "text": [
      "step              0\n",
      "type              0\n",
      "amount            0\n",
      "nameOrig          0\n",
      "oldbalanceOrg     0\n",
      "newbalanceOrig    0\n",
      "nameDest          0\n",
      "oldbalanceDest    0\n",
      "newbalanceDest    0\n",
      "isFraud           0\n",
      "isFlaggedFraud    0\n",
      "dtype: int64\n"
     ]
    }
   ],
   "source": [
    "#Dropping duplicates and missing values in DataFrame\n",
    "#Finding if there are missing values from each column\n",
    "print(fraud_data.isna().sum())"
   ]
  },
  {
   "cell_type": "code",
   "execution_count": 40,
   "id": "25e25cc7-8615-4e7d-b4f0-6c7c1ce39478",
   "metadata": {},
   "outputs": [],
   "source": [
    "# No Missing record\n",
    "fraud_data = fraud_data.dropna()"
   ]
  },
  {
   "cell_type": "code",
   "execution_count": 21,
   "id": "173ebff1-1210-4e90-92c6-ddde4e6a7941",
   "metadata": {},
   "outputs": [
    {
     "name": "stdout",
     "output_type": "stream",
     "text": [
      "(6362620, 11)\n"
     ]
    }
   ],
   "source": [
    "# Dropping Missing Rows\n",
    "drop_rows = fraud_data.dropna()\n",
    "print(drop_rows.shape)"
   ]
  },
  {
   "cell_type": "code",
   "execution_count": 18,
   "id": "ad9e362c-c26a-4c5f-b035-10bccb4be2cf",
   "metadata": {},
   "outputs": [
    {
     "name": "stdout",
     "output_type": "stream",
     "text": [
      "(6362620, 11)\n"
     ]
    }
   ],
   "source": [
    "# If needed to drop columns that include columns with missing data\n",
    "drop_columns = fraud_data.dropna(axis=1)\n",
    "print(drop_columns.shape)"
   ]
  },
  {
   "cell_type": "code",
   "execution_count": 46,
   "id": "3b954e29-8a55-4b9c-b767-f01419d9c4b3",
   "metadata": {},
   "outputs": [
    {
     "name": "stdout",
     "output_type": "stream",
     "text": [
      "5\n"
     ]
    }
   ],
   "source": [
    "# To view if there are duplicates\n",
    "drop_duplicates = fraud_data.drop_duplicates(subset=['type'])\n",
    "print(drop_duplicates.shape[0])"
   ]
  },
  {
   "cell_type": "code",
   "execution_count": 26,
   "id": "46ebd745-b1eb-484d-9abc-868a0f3818fd",
   "metadata": {},
   "outputs": [
    {
     "name": "stdout",
     "output_type": "stream",
     "text": [
      "['PAYMENT' 'TRANSFER' 'CASH_OUT' 'DEBIT' 'CASH_IN']\n",
      "step                  743\n",
      "type                    5\n",
      "amount            5316900\n",
      "nameOrig          6353307\n",
      "oldbalanceOrg     1845844\n",
      "newbalanceOrig    2682586\n",
      "nameDest          2722362\n",
      "oldbalanceDest    3614697\n",
      "newbalanceDest    3555499\n",
      "isFraud                 2\n",
      "isFlaggedFraud          2\n",
      "dtype: int64\n"
     ]
    }
   ],
   "source": [
    "# Merging DataFrames. To find Unique payment type in the data\n",
    "\n",
    "unique_payment_type = fraud_data[\"type\"].unique()\n",
    "print(unique_payment_type)\n",
    "print(fraud_data.nunique())"
   ]
  },
  {
   "cell_type": "code",
   "execution_count": 47,
   "id": "064f90b7-edc3-4e68-a515-8067c7088773",
   "metadata": {
    "tags": []
   },
   "outputs": [
    {
     "name": "stdout",
     "output_type": "stream",
     "text": [
      "Type                 0\n",
      "Fraud Risk Rating    0\n",
      "dtype: int64\n",
      "5\n"
     ]
    }
   ],
   "source": [
    "#Created a new file in order to add a risk rating to each payment type\n",
    "fraudrisk_data = pd.read_csv('fraudrisk_data.csv')\n",
    "\n",
    "fraudrisk_data['Type'] = fraudrisk_data['Type']\n",
    "\n",
    "# Drop duplicates\n",
    "print(fraudrisk_data.isna().sum())\n",
    "drop_duplicates_of_fraud = fraudrisk_data.drop_duplicates(subset=['Type'])\n",
    "print(drop_duplicates.shape[0])"
   ]
  },
  {
   "cell_type": "code",
   "execution_count": 39,
   "id": "40d75cd5-0e93-4292-9ef1-44af90ca5911",
   "metadata": {},
   "outputs": [
    {
     "name": "stdout",
     "output_type": "stream",
     "text": [
      "   step     type    amount     nameOrig  oldbalanceOrg  newbalanceOrig  \\\n",
      "0     1  PAYMENT   9839.64  C1231006815       170136.0       160296.36   \n",
      "1     1  PAYMENT   1864.28  C1666544295        21249.0        19384.72   \n",
      "2     1  PAYMENT  11668.14  C2048537720        41554.0        29885.86   \n",
      "3     1  PAYMENT   7817.71    C90045638        53860.0        46042.29   \n",
      "4     1  PAYMENT   7107.77   C154988899       183195.0       176087.23   \n",
      "\n",
      "      nameDest  oldbalanceDest  newbalanceDest  isFraud  isFlaggedFraud  \\\n",
      "0  M1979787155             0.0             0.0        0               0   \n",
      "1  M2044282225             0.0             0.0        0               0   \n",
      "2  M1230701703             0.0             0.0        0               0   \n",
      "3   M573487274             0.0             0.0        0               0   \n",
      "4   M408069119             0.0             0.0        0               0   \n",
      "\n",
      "      Type Fraud Risk Rating  \n",
      "0  PAYMENT          Moderate  \n",
      "1  PAYMENT          Moderate  \n",
      "2  PAYMENT          Moderate  \n",
      "3  PAYMENT          Moderate  \n",
      "4  PAYMENT          Moderate  \n"
     ]
    },
    {
     "name": "stderr",
     "output_type": "stream",
     "text": [
      "/Users/bintuawowole/opt/anaconda3/lib/python3.9/site-packages/numpy/lib/arraysetops.py:583: FutureWarning: elementwise comparison failed; returning scalar instead, but in the future will perform elementwise comparison\n",
      "  mask |= (ar1 == a)\n"
     ]
    },
    {
     "data": {
      "text/html": [
       "<div>\n",
       "<style scoped>\n",
       "    .dataframe tbody tr th:only-of-type {\n",
       "        vertical-align: middle;\n",
       "    }\n",
       "\n",
       "    .dataframe tbody tr th {\n",
       "        vertical-align: top;\n",
       "    }\n",
       "\n",
       "    .dataframe thead th {\n",
       "        text-align: right;\n",
       "    }\n",
       "</style>\n",
       "<table border=\"1\" class=\"dataframe\">\n",
       "  <thead>\n",
       "    <tr style=\"text-align: right;\">\n",
       "      <th></th>\n",
       "      <th>step</th>\n",
       "      <th>type</th>\n",
       "      <th>amount</th>\n",
       "      <th>nameOrig</th>\n",
       "      <th>oldbalanceOrg</th>\n",
       "      <th>newbalanceOrig</th>\n",
       "      <th>nameDest</th>\n",
       "      <th>oldbalanceDest</th>\n",
       "      <th>newbalanceDest</th>\n",
       "      <th>isFraud</th>\n",
       "      <th>isFlaggedFraud</th>\n",
       "      <th>Type</th>\n",
       "      <th>Fraud Risk Rating</th>\n",
       "    </tr>\n",
       "  </thead>\n",
       "  <tbody>\n",
       "    <tr>\n",
       "      <th>0</th>\n",
       "      <td>1</td>\n",
       "      <td>PAYMENT</td>\n",
       "      <td>9839.64</td>\n",
       "      <td>C1231006815</td>\n",
       "      <td>170136.0</td>\n",
       "      <td>160296.36</td>\n",
       "      <td>M1979787155</td>\n",
       "      <td>0.00</td>\n",
       "      <td>0.00</td>\n",
       "      <td>0</td>\n",
       "      <td>0</td>\n",
       "      <td>PAYMENT</td>\n",
       "      <td>Moderate</td>\n",
       "    </tr>\n",
       "    <tr>\n",
       "      <th>1</th>\n",
       "      <td>1</td>\n",
       "      <td>PAYMENT</td>\n",
       "      <td>1864.28</td>\n",
       "      <td>C1666544295</td>\n",
       "      <td>21249.0</td>\n",
       "      <td>19384.72</td>\n",
       "      <td>M2044282225</td>\n",
       "      <td>0.00</td>\n",
       "      <td>0.00</td>\n",
       "      <td>0</td>\n",
       "      <td>0</td>\n",
       "      <td>PAYMENT</td>\n",
       "      <td>Moderate</td>\n",
       "    </tr>\n",
       "    <tr>\n",
       "      <th>2</th>\n",
       "      <td>1</td>\n",
       "      <td>PAYMENT</td>\n",
       "      <td>11668.14</td>\n",
       "      <td>C2048537720</td>\n",
       "      <td>41554.0</td>\n",
       "      <td>29885.86</td>\n",
       "      <td>M1230701703</td>\n",
       "      <td>0.00</td>\n",
       "      <td>0.00</td>\n",
       "      <td>0</td>\n",
       "      <td>0</td>\n",
       "      <td>PAYMENT</td>\n",
       "      <td>Moderate</td>\n",
       "    </tr>\n",
       "    <tr>\n",
       "      <th>3</th>\n",
       "      <td>1</td>\n",
       "      <td>PAYMENT</td>\n",
       "      <td>7817.71</td>\n",
       "      <td>C90045638</td>\n",
       "      <td>53860.0</td>\n",
       "      <td>46042.29</td>\n",
       "      <td>M573487274</td>\n",
       "      <td>0.00</td>\n",
       "      <td>0.00</td>\n",
       "      <td>0</td>\n",
       "      <td>0</td>\n",
       "      <td>PAYMENT</td>\n",
       "      <td>Moderate</td>\n",
       "    </tr>\n",
       "    <tr>\n",
       "      <th>4</th>\n",
       "      <td>1</td>\n",
       "      <td>PAYMENT</td>\n",
       "      <td>7107.77</td>\n",
       "      <td>C154988899</td>\n",
       "      <td>183195.0</td>\n",
       "      <td>176087.23</td>\n",
       "      <td>M408069119</td>\n",
       "      <td>0.00</td>\n",
       "      <td>0.00</td>\n",
       "      <td>0</td>\n",
       "      <td>0</td>\n",
       "      <td>PAYMENT</td>\n",
       "      <td>Moderate</td>\n",
       "    </tr>\n",
       "    <tr>\n",
       "      <th>...</th>\n",
       "      <td>...</td>\n",
       "      <td>...</td>\n",
       "      <td>...</td>\n",
       "      <td>...</td>\n",
       "      <td>...</td>\n",
       "      <td>...</td>\n",
       "      <td>...</td>\n",
       "      <td>...</td>\n",
       "      <td>...</td>\n",
       "      <td>...</td>\n",
       "      <td>...</td>\n",
       "      <td>...</td>\n",
       "      <td>...</td>\n",
       "    </tr>\n",
       "    <tr>\n",
       "      <th>6362615</th>\n",
       "      <td>718</td>\n",
       "      <td>CASH_IN</td>\n",
       "      <td>188888.89</td>\n",
       "      <td>C1459052107</td>\n",
       "      <td>51838.0</td>\n",
       "      <td>240726.89</td>\n",
       "      <td>C1955750585</td>\n",
       "      <td>0.00</td>\n",
       "      <td>0.00</td>\n",
       "      <td>0</td>\n",
       "      <td>0</td>\n",
       "      <td>CASH_IN</td>\n",
       "      <td>Minor</td>\n",
       "    </tr>\n",
       "    <tr>\n",
       "      <th>6362616</th>\n",
       "      <td>718</td>\n",
       "      <td>CASH_IN</td>\n",
       "      <td>27919.60</td>\n",
       "      <td>C562982749</td>\n",
       "      <td>2413.0</td>\n",
       "      <td>30332.60</td>\n",
       "      <td>C240654881</td>\n",
       "      <td>512791.59</td>\n",
       "      <td>484871.98</td>\n",
       "      <td>0</td>\n",
       "      <td>0</td>\n",
       "      <td>CASH_IN</td>\n",
       "      <td>Minor</td>\n",
       "    </tr>\n",
       "    <tr>\n",
       "      <th>6362617</th>\n",
       "      <td>718</td>\n",
       "      <td>CASH_IN</td>\n",
       "      <td>78988.38</td>\n",
       "      <td>C886862695</td>\n",
       "      <td>204464.0</td>\n",
       "      <td>283452.38</td>\n",
       "      <td>C262804200</td>\n",
       "      <td>108724.19</td>\n",
       "      <td>29735.81</td>\n",
       "      <td>0</td>\n",
       "      <td>0</td>\n",
       "      <td>CASH_IN</td>\n",
       "      <td>Minor</td>\n",
       "    </tr>\n",
       "    <tr>\n",
       "      <th>6362618</th>\n",
       "      <td>718</td>\n",
       "      <td>CASH_IN</td>\n",
       "      <td>18000.26</td>\n",
       "      <td>C50108853</td>\n",
       "      <td>63409.0</td>\n",
       "      <td>81409.26</td>\n",
       "      <td>C204102272</td>\n",
       "      <td>28088.61</td>\n",
       "      <td>10088.34</td>\n",
       "      <td>0</td>\n",
       "      <td>0</td>\n",
       "      <td>CASH_IN</td>\n",
       "      <td>Minor</td>\n",
       "    </tr>\n",
       "    <tr>\n",
       "      <th>6362619</th>\n",
       "      <td>718</td>\n",
       "      <td>CASH_IN</td>\n",
       "      <td>96239.74</td>\n",
       "      <td>C759614959</td>\n",
       "      <td>101281.0</td>\n",
       "      <td>197520.74</td>\n",
       "      <td>C1766719169</td>\n",
       "      <td>151109.37</td>\n",
       "      <td>54869.63</td>\n",
       "      <td>0</td>\n",
       "      <td>0</td>\n",
       "      <td>CASH_IN</td>\n",
       "      <td>Minor</td>\n",
       "    </tr>\n",
       "  </tbody>\n",
       "</table>\n",
       "<p>6362620 rows × 13 columns</p>\n",
       "</div>"
      ],
      "text/plain": [
       "         step     type     amount     nameOrig  oldbalanceOrg  newbalanceOrig  \\\n",
       "0           1  PAYMENT    9839.64  C1231006815       170136.0       160296.36   \n",
       "1           1  PAYMENT    1864.28  C1666544295        21249.0        19384.72   \n",
       "2           1  PAYMENT   11668.14  C2048537720        41554.0        29885.86   \n",
       "3           1  PAYMENT    7817.71    C90045638        53860.0        46042.29   \n",
       "4           1  PAYMENT    7107.77   C154988899       183195.0       176087.23   \n",
       "...       ...      ...        ...          ...            ...             ...   \n",
       "6362615   718  CASH_IN  188888.89  C1459052107        51838.0       240726.89   \n",
       "6362616   718  CASH_IN   27919.60   C562982749         2413.0        30332.60   \n",
       "6362617   718  CASH_IN   78988.38   C886862695       204464.0       283452.38   \n",
       "6362618   718  CASH_IN   18000.26    C50108853        63409.0        81409.26   \n",
       "6362619   718  CASH_IN   96239.74   C759614959       101281.0       197520.74   \n",
       "\n",
       "            nameDest  oldbalanceDest  newbalanceDest  isFraud  isFlaggedFraud  \\\n",
       "0        M1979787155            0.00            0.00        0               0   \n",
       "1        M2044282225            0.00            0.00        0               0   \n",
       "2        M1230701703            0.00            0.00        0               0   \n",
       "3         M573487274            0.00            0.00        0               0   \n",
       "4         M408069119            0.00            0.00        0               0   \n",
       "...              ...             ...             ...      ...             ...   \n",
       "6362615  C1955750585            0.00            0.00        0               0   \n",
       "6362616   C240654881       512791.59       484871.98        0               0   \n",
       "6362617   C262804200       108724.19        29735.81        0               0   \n",
       "6362618   C204102272        28088.61        10088.34        0               0   \n",
       "6362619  C1766719169       151109.37        54869.63        0               0   \n",
       "\n",
       "            Type Fraud Risk Rating  \n",
       "0        PAYMENT          Moderate  \n",
       "1        PAYMENT          Moderate  \n",
       "2        PAYMENT          Moderate  \n",
       "3        PAYMENT          Moderate  \n",
       "4        PAYMENT          Moderate  \n",
       "...          ...               ...  \n",
       "6362615  CASH_IN             Minor  \n",
       "6362616  CASH_IN             Minor  \n",
       "6362617  CASH_IN             Minor  \n",
       "6362618  CASH_IN             Minor  \n",
       "6362619  CASH_IN             Minor  \n",
       "\n",
       "[6362620 rows x 13 columns]"
      ]
     },
     "execution_count": 39,
     "metadata": {},
     "output_type": "execute_result"
    }
   ],
   "source": [
    "# There are no duplicates in our data sets, so we can proceed to merge\n",
    "merged_financialdata_and_fraudrisk = fraud_data.merge(fraudrisk_data,left_on='type',right_on='Type',how=\"outer\")\n",
    "print(merged_financialdata_and_fraudrisk.head())\n",
    "merged_financialdata_and_fraudrisk.to_csv('merged_financialdata_and_fraudrisk.csv')\n",
    "pd.read_csv('merged_financialdata_and_fraudrisk.csv', index_col=0)"
   ]
  },
  {
   "cell_type": "code",
   "execution_count": 104,
   "id": "79cb497a-4c46-4c22-8c28-59a1842ce6ce",
   "metadata": {},
   "outputs": [
    {
     "name": "stdout",
     "output_type": "stream",
     "text": [
      "type\n",
      "DEBIT         41432\n",
      "TRANSFER     532909\n",
      "CASH_IN     1399284\n",
      "PAYMENT     2151495\n",
      "CASH_OUT    2237500\n",
      "Name: isFlaggedFraud, dtype: int64\n"
     ]
    },
    {
     "data": {
      "text/html": [
       "<div>\n",
       "<style scoped>\n",
       "    .dataframe tbody tr th:only-of-type {\n",
       "        vertical-align: middle;\n",
       "    }\n",
       "\n",
       "    .dataframe tbody tr th {\n",
       "        vertical-align: top;\n",
       "    }\n",
       "\n",
       "    .dataframe thead th {\n",
       "        text-align: right;\n",
       "    }\n",
       "</style>\n",
       "<table border=\"1\" class=\"dataframe\">\n",
       "  <thead>\n",
       "    <tr style=\"text-align: right;\">\n",
       "      <th></th>\n",
       "      <th>isFlaggedFraud</th>\n",
       "    </tr>\n",
       "    <tr>\n",
       "      <th>type</th>\n",
       "      <th></th>\n",
       "    </tr>\n",
       "  </thead>\n",
       "  <tbody>\n",
       "    <tr>\n",
       "      <th>DEBIT</th>\n",
       "      <td>41432</td>\n",
       "    </tr>\n",
       "    <tr>\n",
       "      <th>TRANSFER</th>\n",
       "      <td>532909</td>\n",
       "    </tr>\n",
       "    <tr>\n",
       "      <th>CASH_IN</th>\n",
       "      <td>1399284</td>\n",
       "    </tr>\n",
       "    <tr>\n",
       "      <th>PAYMENT</th>\n",
       "      <td>2151495</td>\n",
       "    </tr>\n",
       "    <tr>\n",
       "      <th>CASH_OUT</th>\n",
       "      <td>2237500</td>\n",
       "    </tr>\n",
       "  </tbody>\n",
       "</table>\n",
       "</div>"
      ],
      "text/plain": [
       "          isFlaggedFraud\n",
       "type                    \n",
       "DEBIT              41432\n",
       "TRANSFER          532909\n",
       "CASH_IN          1399284\n",
       "PAYMENT          2151495\n",
       "CASH_OUT         2237500"
      ]
     },
     "execution_count": 104,
     "metadata": {},
     "output_type": "execute_result"
    }
   ],
   "source": [
    "groupby_data = fraud_data.groupby(['type']).count()['isFlaggedFraud'].sort_values(ascending=True)\n",
    "print(groupby_data.head())\n",
    "groupby_data.to_csv('groupby_data.csv')\n",
    "pd.read_csv('groupby_data.csv', index_col=0)"
   ]
  },
  {
   "cell_type": "code",
   "execution_count": 125,
   "id": "a23ec03c-a21f-4792-8a5a-52653968ed52",
   "metadata": {},
   "outputs": [
    {
     "data": {
      "image/png": "[encoded data removed]",
      "text/plain": [
       "<Figure size 432x288 with 1 Axes>"
      ]
     },
     "metadata": {
      "needs_background": "light"
     },
     "output_type": "display_data"
    }
   ],
   "source": [
    "#Visualisation\n",
    "#Bar Chart \n",
    "groupby_data = pd.read_csv('groupby_data.csv', index_col=0)\n",
    "xx = 'type'\n",
    "yy = 'isFlaggedFraud'\n",
    "plt.bar(xx, yy, color = 'purple')\n",
    "plt.title ('Fraud per Transaction Type')\n",
    "plt.show()"
   ]
  },
  {
   "cell_type": "code",
   "execution_count": 130,
   "id": "3ed2141a-ac85-46d4-b8de-0ecf831bfa5a",
   "metadata": {},
   "outputs": [
    {
     "ename": "ValueError",
     "evalue": "Could not interpret input 'type'",
     "output_type": "error",
     "traceback": [
      "\u001b[0;31m---------------------------------------------------------------------------\u001b[0m",
      "\u001b[0;31mValueError\u001b[0m                                Traceback (most recent call last)",
      "\u001b[0;32m/var/folders/mm/d2zqbfc10rl9848n_m46cwlr0000gp/T/ipykernel_3896/3713894324.py\u001b[0m in \u001b[0;36m<module>\u001b[0;34m\u001b[0m\n\u001b[1;32m      2\u001b[0m \u001b[0mxx\u001b[0m \u001b[0;34m=\u001b[0m \u001b[0;34m'type'\u001b[0m\u001b[0;34m\u001b[0m\u001b[0;34m\u001b[0m\u001b[0m\n\u001b[1;32m      3\u001b[0m \u001b[0myy\u001b[0m \u001b[0;34m=\u001b[0m \u001b[0;34m'isFlaggedFraud'\u001b[0m\u001b[0;34m\u001b[0m\u001b[0;34m\u001b[0m\u001b[0m\n\u001b[0;32m----> 4\u001b[0;31m \u001b[0msns\u001b[0m\u001b[0;34m.\u001b[0m\u001b[0mbarplot\u001b[0m\u001b[0;34m(\u001b[0m\u001b[0mxx\u001b[0m\u001b[0;34m,\u001b[0m \u001b[0myy\u001b[0m\u001b[0;34m)\u001b[0m\u001b[0;34m\u001b[0m\u001b[0;34m\u001b[0m\u001b[0m\n\u001b[0m\u001b[1;32m      5\u001b[0m \u001b[0mplt\u001b[0m\u001b[0;34m.\u001b[0m\u001b[0mshow\u001b[0m\u001b[0;34m(\u001b[0m\u001b[0;34m)\u001b[0m\u001b[0;34m\u001b[0m\u001b[0;34m\u001b[0m\u001b[0m\n",
      "\u001b[0;32m~/opt/anaconda3/lib/python3.9/site-packages/seaborn/_decorators.py\u001b[0m in \u001b[0;36minner_f\u001b[0;34m(*args, **kwargs)\u001b[0m\n\u001b[1;32m     44\u001b[0m             )\n\u001b[1;32m     45\u001b[0m         \u001b[0mkwargs\u001b[0m\u001b[0;34m.\u001b[0m\u001b[0mupdate\u001b[0m\u001b[0;34m(\u001b[0m\u001b[0;34m{\u001b[0m\u001b[0mk\u001b[0m\u001b[0;34m:\u001b[0m \u001b[0marg\u001b[0m \u001b[0;32mfor\u001b[0m \u001b[0mk\u001b[0m\u001b[0;34m,\u001b[0m \u001b[0marg\u001b[0m \u001b[0;32min\u001b[0m \u001b[0mzip\u001b[0m\u001b[0;34m(\u001b[0m\u001b[0msig\u001b[0m\u001b[0;34m.\u001b[0m\u001b[0mparameters\u001b[0m\u001b[0;34m,\u001b[0m \u001b[0margs\u001b[0m\u001b[0;34m)\u001b[0m\u001b[0;34m}\u001b[0m\u001b[0;34m)\u001b[0m\u001b[0;34m\u001b[0m\u001b[0;34m\u001b[0m\u001b[0m\n\u001b[0;32m---> 46\u001b[0;31m         \u001b[0;32mreturn\u001b[0m \u001b[0mf\u001b[0m\u001b[0;34m(\u001b[0m\u001b[0;34m**\u001b[0m\u001b[0mkwargs\u001b[0m\u001b[0;34m)\u001b[0m\u001b[0;34m\u001b[0m\u001b[0;34m\u001b[0m\u001b[0m\n\u001b[0m\u001b[1;32m     47\u001b[0m     \u001b[0;32mreturn\u001b[0m \u001b[0minner_f\u001b[0m\u001b[0;34m\u001b[0m\u001b[0;34m\u001b[0m\u001b[0m\n\u001b[1;32m     48\u001b[0m \u001b[0;34m\u001b[0m\u001b[0m\n",
      "\u001b[0;32m~/opt/anaconda3/lib/python3.9/site-packages/seaborn/categorical.py\u001b[0m in \u001b[0;36mbarplot\u001b[0;34m(x, y, hue, data, order, hue_order, estimator, ci, n_boot, units, seed, orient, color, palette, saturation, errcolor, errwidth, capsize, dodge, ax, **kwargs)\u001b[0m\n\u001b[1;32m   3180\u001b[0m ):\n\u001b[1;32m   3181\u001b[0m \u001b[0;34m\u001b[0m\u001b[0m\n\u001b[0;32m-> 3182\u001b[0;31m     plotter = _BarPlotter(x, y, hue, data, order, hue_order,\n\u001b[0m\u001b[1;32m   3183\u001b[0m                           \u001b[0mestimator\u001b[0m\u001b[0;34m,\u001b[0m \u001b[0mci\u001b[0m\u001b[0;34m,\u001b[0m \u001b[0mn_boot\u001b[0m\u001b[0;34m,\u001b[0m \u001b[0munits\u001b[0m\u001b[0;34m,\u001b[0m \u001b[0mseed\u001b[0m\u001b[0;34m,\u001b[0m\u001b[0;34m\u001b[0m\u001b[0;34m\u001b[0m\u001b[0m\n\u001b[1;32m   3184\u001b[0m                           \u001b[0morient\u001b[0m\u001b[0;34m,\u001b[0m \u001b[0mcolor\u001b[0m\u001b[0;34m,\u001b[0m \u001b[0mpalette\u001b[0m\u001b[0;34m,\u001b[0m \u001b[0msaturation\u001b[0m\u001b[0;34m,\u001b[0m\u001b[0;34m\u001b[0m\u001b[0;34m\u001b[0m\u001b[0m\n",
      "\u001b[0;32m~/opt/anaconda3/lib/python3.9/site-packages/seaborn/categorical.py\u001b[0m in \u001b[0;36m__init__\u001b[0;34m(self, x, y, hue, data, order, hue_order, estimator, ci, n_boot, units, seed, orient, color, palette, saturation, errcolor, errwidth, capsize, dodge)\u001b[0m\n\u001b[1;32m   1582\u001b[0m                  errwidth, capsize, dodge):\n\u001b[1;32m   1583\u001b[0m         \u001b[0;34m\"\"\"Initialize the plotter.\"\"\"\u001b[0m\u001b[0;34m\u001b[0m\u001b[0;34m\u001b[0m\u001b[0m\n\u001b[0;32m-> 1584\u001b[0;31m         self.establish_variables(x, y, hue, data, orient,\n\u001b[0m\u001b[1;32m   1585\u001b[0m                                  order, hue_order, units)\n\u001b[1;32m   1586\u001b[0m         \u001b[0mself\u001b[0m\u001b[0;34m.\u001b[0m\u001b[0mestablish_colors\u001b[0m\u001b[0;34m(\u001b[0m\u001b[0mcolor\u001b[0m\u001b[0;34m,\u001b[0m \u001b[0mpalette\u001b[0m\u001b[0;34m,\u001b[0m \u001b[0msaturation\u001b[0m\u001b[0;34m)\u001b[0m\u001b[0;34m\u001b[0m\u001b[0;34m\u001b[0m\u001b[0m\n",
      "\u001b[0;32m~/opt/anaconda3/lib/python3.9/site-packages/seaborn/categorical.py\u001b[0m in \u001b[0;36mestablish_variables\u001b[0;34m(self, x, y, hue, data, orient, order, hue_order, units)\u001b[0m\n\u001b[1;32m    151\u001b[0m                 \u001b[0;32mif\u001b[0m \u001b[0misinstance\u001b[0m\u001b[0;34m(\u001b[0m\u001b[0mvar\u001b[0m\u001b[0;34m,\u001b[0m \u001b[0mstr\u001b[0m\u001b[0;34m)\u001b[0m\u001b[0;34m:\u001b[0m\u001b[0;34m\u001b[0m\u001b[0;34m\u001b[0m\u001b[0m\n\u001b[1;32m    152\u001b[0m                     \u001b[0merr\u001b[0m \u001b[0;34m=\u001b[0m \u001b[0;34m\"Could not interpret input '{}'\"\u001b[0m\u001b[0;34m.\u001b[0m\u001b[0mformat\u001b[0m\u001b[0;34m(\u001b[0m\u001b[0mvar\u001b[0m\u001b[0;34m)\u001b[0m\u001b[0;34m\u001b[0m\u001b[0;34m\u001b[0m\u001b[0m\n\u001b[0;32m--> 153\u001b[0;31m                     \u001b[0;32mraise\u001b[0m \u001b[0mValueError\u001b[0m\u001b[0;34m(\u001b[0m\u001b[0merr\u001b[0m\u001b[0;34m)\u001b[0m\u001b[0;34m\u001b[0m\u001b[0;34m\u001b[0m\u001b[0m\n\u001b[0m\u001b[1;32m    154\u001b[0m \u001b[0;34m\u001b[0m\u001b[0m\n\u001b[1;32m    155\u001b[0m             \u001b[0;31m# Figure out the plotting orientation\u001b[0m\u001b[0;34m\u001b[0m\u001b[0;34m\u001b[0m\u001b[0m\n",
      "\u001b[0;31mValueError\u001b[0m: Could not interpret input 'type'"
     ]
    }
   ],
   "source": [
    "groupby_data = pd.read_csv('groupby_data.csv', index_col=0)\n",
    "xx = 'type'\n",
    "yy = 'isFlaggedFraud'\n",
    "sns.barplot(xx, yy)\n",
    "plt.show()"
   ]
  },
  {
   "cell_type": "code",
   "execution_count": null,
   "id": "3aac7f1a-105d-421f-bca5-4742dbb3e248",
   "metadata": {},
   "outputs": [],
   "source": []
  },
  {
   "cell_type": "code",
   "execution_count": null,
   "id": "b8a68d27-feb8-40f9-a1b4-cf80085f55e2",
   "metadata": {},
   "outputs": [],
   "source": []
  }
 ],
 "metadata": {
  "kernelspec": {
   "display_name": "Python 3 (ipykernel)",
   "language": "python",
   "name": "python3"
  },
  "language_info": {
   "codemirror_mode": {
    "name": "ipython",
    "version": 3
   },
   "file_extension": ".py",
   "mimetype": "text/x-python",
   "name": "python",
   "nbconvert_exporter": "python",
   "pygments_lexer": "ipython3",
   "version": "3.9.7"
  }
 },
 "nbformat": 4,
 "nbformat_minor": 5
}
